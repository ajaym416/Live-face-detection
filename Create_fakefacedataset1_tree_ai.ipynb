{
  "nbformat": 4,
  "nbformat_minor": 0,
  "metadata": {
    "colab": {
      "name": "Create_fakefacedataset1_tree_ai.ipynb",
      "provenance": [],
      "mount_file_id": "1uqnmg6M7-SEbWn5g2PF5gWI33MZ1_d2k",
      "authorship_tag": "ABX9TyOEksISaegRi11QaPOnmgxi",
      "include_colab_link": true
    },
    "kernelspec": {
      "name": "python3",
      "display_name": "Python 3"
    },
    "widgets": {
      "application/vnd.jupyter.widget-state+json": {
        "f3207a1136774e82845c97fff8dab06d": {
          "model_module": "@jupyter-widgets/controls",
          "model_name": "HBoxModel",
          "state": {
            "_view_name": "HBoxView",
            "_dom_classes": [],
            "_model_name": "HBoxModel",
            "_view_module": "@jupyter-widgets/controls",
            "_model_module_version": "1.5.0",
            "_view_count": null,
            "_view_module_version": "1.5.0",
            "box_style": "",
            "layout": "IPY_MODEL_3e305d679ec54536a827aa7f6aae4eaf",
            "_model_module": "@jupyter-widgets/controls",
            "children": [
              "IPY_MODEL_2bcd1e302a1648c5a5c47876ec00b1c6",
              "IPY_MODEL_dc695b5511804224bddb8e215403257a"
            ]
          }
        },
        "3e305d679ec54536a827aa7f6aae4eaf": {
          "model_module": "@jupyter-widgets/base",
          "model_name": "LayoutModel",
          "state": {
            "_view_name": "LayoutView",
            "grid_template_rows": null,
            "right": null,
            "justify_content": null,
            "_view_module": "@jupyter-widgets/base",
            "overflow": null,
            "_model_module_version": "1.2.0",
            "_view_count": null,
            "flex_flow": null,
            "width": null,
            "min_width": null,
            "border": null,
            "align_items": null,
            "bottom": null,
            "_model_module": "@jupyter-widgets/base",
            "top": null,
            "grid_column": null,
            "overflow_y": null,
            "overflow_x": null,
            "grid_auto_flow": null,
            "grid_area": null,
            "grid_template_columns": null,
            "flex": null,
            "_model_name": "LayoutModel",
            "justify_items": null,
            "grid_row": null,
            "max_height": null,
            "align_content": null,
            "visibility": null,
            "align_self": null,
            "height": null,
            "min_height": null,
            "padding": null,
            "grid_auto_rows": null,
            "grid_gap": null,
            "max_width": null,
            "order": null,
            "_view_module_version": "1.2.0",
            "grid_template_areas": null,
            "object_position": null,
            "object_fit": null,
            "grid_auto_columns": null,
            "margin": null,
            "display": null,
            "left": null
          }
        },
        "2bcd1e302a1648c5a5c47876ec00b1c6": {
          "model_module": "@jupyter-widgets/controls",
          "model_name": "FloatProgressModel",
          "state": {
            "_view_name": "ProgressView",
            "style": "IPY_MODEL_8cf1bf6162d542ac99295ff31ad4ddcb",
            "_dom_classes": [],
            "description": "100%",
            "_model_name": "FloatProgressModel",
            "bar_style": "success",
            "max": 3497,
            "_view_module": "@jupyter-widgets/controls",
            "_model_module_version": "1.5.0",
            "value": 3497,
            "_view_count": null,
            "_view_module_version": "1.5.0",
            "orientation": "horizontal",
            "min": 0,
            "description_tooltip": null,
            "_model_module": "@jupyter-widgets/controls",
            "layout": "IPY_MODEL_37cfeb4a4dc64267ad74454c2a74b4cb"
          }
        },
        "dc695b5511804224bddb8e215403257a": {
          "model_module": "@jupyter-widgets/controls",
          "model_name": "HTMLModel",
          "state": {
            "_view_name": "HTMLView",
            "style": "IPY_MODEL_c22c3154c15a4d3fb4bc144c79e3f09d",
            "_dom_classes": [],
            "description": "",
            "_model_name": "HTMLModel",
            "placeholder": "​",
            "_view_module": "@jupyter-widgets/controls",
            "_model_module_version": "1.5.0",
            "value": " 3497/3497 [45:14&lt;00:00,  1.29it/s]",
            "_view_count": null,
            "_view_module_version": "1.5.0",
            "description_tooltip": null,
            "_model_module": "@jupyter-widgets/controls",
            "layout": "IPY_MODEL_3444678e4066462f91dc0080abc8fcb4"
          }
        },
        "8cf1bf6162d542ac99295ff31ad4ddcb": {
          "model_module": "@jupyter-widgets/controls",
          "model_name": "ProgressStyleModel",
          "state": {
            "_view_name": "StyleView",
            "_model_name": "ProgressStyleModel",
            "description_width": "initial",
            "_view_module": "@jupyter-widgets/base",
            "_model_module_version": "1.5.0",
            "_view_count": null,
            "_view_module_version": "1.2.0",
            "bar_color": null,
            "_model_module": "@jupyter-widgets/controls"
          }
        },
        "37cfeb4a4dc64267ad74454c2a74b4cb": {
          "model_module": "@jupyter-widgets/base",
          "model_name": "LayoutModel",
          "state": {
            "_view_name": "LayoutView",
            "grid_template_rows": null,
            "right": null,
            "justify_content": null,
            "_view_module": "@jupyter-widgets/base",
            "overflow": null,
            "_model_module_version": "1.2.0",
            "_view_count": null,
            "flex_flow": null,
            "width": null,
            "min_width": null,
            "border": null,
            "align_items": null,
            "bottom": null,
            "_model_module": "@jupyter-widgets/base",
            "top": null,
            "grid_column": null,
            "overflow_y": null,
            "overflow_x": null,
            "grid_auto_flow": null,
            "grid_area": null,
            "grid_template_columns": null,
            "flex": null,
            "_model_name": "LayoutModel",
            "justify_items": null,
            "grid_row": null,
            "max_height": null,
            "align_content": null,
            "visibility": null,
            "align_self": null,
            "height": null,
            "min_height": null,
            "padding": null,
            "grid_auto_rows": null,
            "grid_gap": null,
            "max_width": null,
            "order": null,
            "_view_module_version": "1.2.0",
            "grid_template_areas": null,
            "object_position": null,
            "object_fit": null,
            "grid_auto_columns": null,
            "margin": null,
            "display": null,
            "left": null
          }
        },
        "c22c3154c15a4d3fb4bc144c79e3f09d": {
          "model_module": "@jupyter-widgets/controls",
          "model_name": "DescriptionStyleModel",
          "state": {
            "_view_name": "StyleView",
            "_model_name": "DescriptionStyleModel",
            "description_width": "",
            "_view_module": "@jupyter-widgets/base",
            "_model_module_version": "1.5.0",
            "_view_count": null,
            "_view_module_version": "1.2.0",
            "_model_module": "@jupyter-widgets/controls"
          }
        },
        "3444678e4066462f91dc0080abc8fcb4": {
          "model_module": "@jupyter-widgets/base",
          "model_name": "LayoutModel",
          "state": {
            "_view_name": "LayoutView",
            "grid_template_rows": null,
            "right": null,
            "justify_content": null,
            "_view_module": "@jupyter-widgets/base",
            "overflow": null,
            "_model_module_version": "1.2.0",
            "_view_count": null,
            "flex_flow": null,
            "width": null,
            "min_width": null,
            "border": null,
            "align_items": null,
            "bottom": null,
            "_model_module": "@jupyter-widgets/base",
            "top": null,
            "grid_column": null,
            "overflow_y": null,
            "overflow_x": null,
            "grid_auto_flow": null,
            "grid_area": null,
            "grid_template_columns": null,
            "flex": null,
            "_model_name": "LayoutModel",
            "justify_items": null,
            "grid_row": null,
            "max_height": null,
            "align_content": null,
            "visibility": null,
            "align_self": null,
            "height": null,
            "min_height": null,
            "padding": null,
            "grid_auto_rows": null,
            "grid_gap": null,
            "max_width": null,
            "order": null,
            "_view_module_version": "1.2.0",
            "grid_template_areas": null,
            "object_position": null,
            "object_fit": null,
            "grid_auto_columns": null,
            "margin": null,
            "display": null,
            "left": null
          }
        }
      }
    },
    "accelerator": "GPU"
  },
  "cells": [
    {
      "cell_type": "markdown",
      "metadata": {
        "id": "view-in-github",
        "colab_type": "text"
      },
      "source": [
        "<a href=\"https://colab.research.google.com/github/ajaym416/TreeleafAIchallenge/blob/main/Create_fakefacedataset1_tree_ai.ipynb\" target=\"_parent\"><img src=\"https://colab.research.google.com/assets/colab-badge.svg\" alt=\"Open In Colab\"/></a>"
      ]
    },
    {
      "cell_type": "code",
      "metadata": {
        "colab": {
          "base_uri": "https://localhost:8080/"
        },
        "id": "E0l6EvASXXSO",
        "outputId": "3f9a92a1-a807-4309-a40d-5b75894258b8"
      },
      "source": [
        "!pip install facenet-pytorch"
      ],
      "execution_count": null,
      "outputs": [
        {
          "output_type": "stream",
          "text": [
            "Collecting facenet-pytorch\n",
            "\u001b[?25l  Downloading https://files.pythonhosted.org/packages/e9/e9/9dee8c3924478283d0f29c7b36b9d000a4e6928c00d8108e66df494218e6/facenet_pytorch-2.5.1-py3-none-any.whl (1.9MB)\n",
            "\r\u001b[K     |▏                               | 10kB 21.8MB/s eta 0:00:01\r\u001b[K     |▍                               | 20kB 26.1MB/s eta 0:00:01\r\u001b[K     |▌                               | 30kB 22.5MB/s eta 0:00:01\r\u001b[K     |▊                               | 40kB 25.8MB/s eta 0:00:01\r\u001b[K     |▉                               | 51kB 28.2MB/s eta 0:00:01\r\u001b[K     |█                               | 61kB 30.5MB/s eta 0:00:01\r\u001b[K     |█▏                              | 71kB 30.0MB/s eta 0:00:01\r\u001b[K     |█▍                              | 81kB 20.8MB/s eta 0:00:01\r\u001b[K     |█▋                              | 92kB 19.2MB/s eta 0:00:01\r\u001b[K     |█▊                              | 102kB 18.6MB/s eta 0:00:01\r\u001b[K     |██                              | 112kB 18.6MB/s eta 0:00:01\r\u001b[K     |██                              | 122kB 18.6MB/s eta 0:00:01\r\u001b[K     |██▎                             | 133kB 18.6MB/s eta 0:00:01\r\u001b[K     |██▍                             | 143kB 18.6MB/s eta 0:00:01\r\u001b[K     |██▋                             | 153kB 18.6MB/s eta 0:00:01\r\u001b[K     |██▉                             | 163kB 18.6MB/s eta 0:00:01\r\u001b[K     |███                             | 174kB 18.6MB/s eta 0:00:01\r\u001b[K     |███▏                            | 184kB 18.6MB/s eta 0:00:01\r\u001b[K     |███▎                            | 194kB 18.6MB/s eta 0:00:01\r\u001b[K     |███▌                            | 204kB 18.6MB/s eta 0:00:01\r\u001b[K     |███▋                            | 215kB 18.6MB/s eta 0:00:01\r\u001b[K     |███▉                            | 225kB 18.6MB/s eta 0:00:01\r\u001b[K     |████                            | 235kB 18.6MB/s eta 0:00:01\r\u001b[K     |████▏                           | 245kB 18.6MB/s eta 0:00:01\r\u001b[K     |████▍                           | 256kB 18.6MB/s eta 0:00:01\r\u001b[K     |████▌                           | 266kB 18.6MB/s eta 0:00:01\r\u001b[K     |████▊                           | 276kB 18.6MB/s eta 0:00:01\r\u001b[K     |████▉                           | 286kB 18.6MB/s eta 0:00:01\r\u001b[K     |█████                           | 296kB 18.6MB/s eta 0:00:01\r\u001b[K     |█████▏                          | 307kB 18.6MB/s eta 0:00:01\r\u001b[K     |█████▍                          | 317kB 18.6MB/s eta 0:00:01\r\u001b[K     |█████▋                          | 327kB 18.6MB/s eta 0:00:01\r\u001b[K     |█████▊                          | 337kB 18.6MB/s eta 0:00:01\r\u001b[K     |██████                          | 348kB 18.6MB/s eta 0:00:01\r\u001b[K     |██████                          | 358kB 18.6MB/s eta 0:00:01\r\u001b[K     |██████▎                         | 368kB 18.6MB/s eta 0:00:01\r\u001b[K     |██████▍                         | 378kB 18.6MB/s eta 0:00:01\r\u001b[K     |██████▋                         | 389kB 18.6MB/s eta 0:00:01\r\u001b[K     |██████▉                         | 399kB 18.6MB/s eta 0:00:01\r\u001b[K     |███████                         | 409kB 18.6MB/s eta 0:00:01\r\u001b[K     |███████▏                        | 419kB 18.6MB/s eta 0:00:01\r\u001b[K     |███████▎                        | 430kB 18.6MB/s eta 0:00:01\r\u001b[K     |███████▌                        | 440kB 18.6MB/s eta 0:00:01\r\u001b[K     |███████▋                        | 450kB 18.6MB/s eta 0:00:01\r\u001b[K     |███████▉                        | 460kB 18.6MB/s eta 0:00:01\r\u001b[K     |████████                        | 471kB 18.6MB/s eta 0:00:01\r\u001b[K     |████████▏                       | 481kB 18.6MB/s eta 0:00:01\r\u001b[K     |████████▍                       | 491kB 18.6MB/s eta 0:00:01\r\u001b[K     |████████▌                       | 501kB 18.6MB/s eta 0:00:01\r\u001b[K     |████████▊                       | 512kB 18.6MB/s eta 0:00:01\r\u001b[K     |████████▉                       | 522kB 18.6MB/s eta 0:00:01\r\u001b[K     |█████████                       | 532kB 18.6MB/s eta 0:00:01\r\u001b[K     |█████████▎                      | 542kB 18.6MB/s eta 0:00:01\r\u001b[K     |█████████▍                      | 552kB 18.6MB/s eta 0:00:01\r\u001b[K     |█████████▋                      | 563kB 18.6MB/s eta 0:00:01\r\u001b[K     |█████████▊                      | 573kB 18.6MB/s eta 0:00:01\r\u001b[K     |██████████                      | 583kB 18.6MB/s eta 0:00:01\r\u001b[K     |██████████                      | 593kB 18.6MB/s eta 0:00:01\r\u001b[K     |██████████▎                     | 604kB 18.6MB/s eta 0:00:01\r\u001b[K     |██████████▍                     | 614kB 18.6MB/s eta 0:00:01\r\u001b[K     |██████████▋                     | 624kB 18.6MB/s eta 0:00:01\r\u001b[K     |██████████▉                     | 634kB 18.6MB/s eta 0:00:01\r\u001b[K     |███████████                     | 645kB 18.6MB/s eta 0:00:01\r\u001b[K     |███████████▏                    | 655kB 18.6MB/s eta 0:00:01\r\u001b[K     |███████████▎                    | 665kB 18.6MB/s eta 0:00:01\r\u001b[K     |███████████▌                    | 675kB 18.6MB/s eta 0:00:01\r\u001b[K     |███████████▋                    | 686kB 18.6MB/s eta 0:00:01\r\u001b[K     |███████████▉                    | 696kB 18.6MB/s eta 0:00:01\r\u001b[K     |████████████                    | 706kB 18.6MB/s eta 0:00:01\r\u001b[K     |████████████▏                   | 716kB 18.6MB/s eta 0:00:01\r\u001b[K     |████████████▍                   | 727kB 18.6MB/s eta 0:00:01\r\u001b[K     |████████████▌                   | 737kB 18.6MB/s eta 0:00:01\r\u001b[K     |████████████▊                   | 747kB 18.6MB/s eta 0:00:01\r\u001b[K     |████████████▉                   | 757kB 18.6MB/s eta 0:00:01\r\u001b[K     |█████████████                   | 768kB 18.6MB/s eta 0:00:01\r\u001b[K     |█████████████▎                  | 778kB 18.6MB/s eta 0:00:01\r\u001b[K     |█████████████▍                  | 788kB 18.6MB/s eta 0:00:01\r\u001b[K     |█████████████▋                  | 798kB 18.6MB/s eta 0:00:01\r\u001b[K     |█████████████▊                  | 808kB 18.6MB/s eta 0:00:01\r\u001b[K     |██████████████                  | 819kB 18.6MB/s eta 0:00:01\r\u001b[K     |██████████████                  | 829kB 18.6MB/s eta 0:00:01\r\u001b[K     |██████████████▎                 | 839kB 18.6MB/s eta 0:00:01\r\u001b[K     |██████████████▌                 | 849kB 18.6MB/s eta 0:00:01\r\u001b[K     |██████████████▋                 | 860kB 18.6MB/s eta 0:00:01\r\u001b[K     |██████████████▉                 | 870kB 18.6MB/s eta 0:00:01\r\u001b[K     |███████████████                 | 880kB 18.6MB/s eta 0:00:01\r\u001b[K     |███████████████▏                | 890kB 18.6MB/s eta 0:00:01\r\u001b[K     |███████████████▎                | 901kB 18.6MB/s eta 0:00:01\r\u001b[K     |███████████████▌                | 911kB 18.6MB/s eta 0:00:01\r\u001b[K     |███████████████▋                | 921kB 18.6MB/s eta 0:00:01\r\u001b[K     |███████████████▉                | 931kB 18.6MB/s eta 0:00:01\r\u001b[K     |████████████████                | 942kB 18.6MB/s eta 0:00:01\r\u001b[K     |████████████████▏               | 952kB 18.6MB/s eta 0:00:01\r\u001b[K     |████████████████▍               | 962kB 18.6MB/s eta 0:00:01\r\u001b[K     |████████████████▌               | 972kB 18.6MB/s eta 0:00:01\r\u001b[K     |████████████████▊               | 983kB 18.6MB/s eta 0:00:01\r\u001b[K     |████████████████▉               | 993kB 18.6MB/s eta 0:00:01\r\u001b[K     |█████████████████               | 1.0MB 18.6MB/s eta 0:00:01\r\u001b[K     |█████████████████▎              | 1.0MB 18.6MB/s eta 0:00:01\r\u001b[K     |█████████████████▍              | 1.0MB 18.6MB/s eta 0:00:01\r\u001b[K     |█████████████████▋              | 1.0MB 18.6MB/s eta 0:00:01\r\u001b[K     |█████████████████▊              | 1.0MB 18.6MB/s eta 0:00:01\r\u001b[K     |██████████████████              | 1.1MB 18.6MB/s eta 0:00:01\r\u001b[K     |██████████████████              | 1.1MB 18.6MB/s eta 0:00:01\r\u001b[K     |██████████████████▎             | 1.1MB 18.6MB/s eta 0:00:01\r\u001b[K     |██████████████████▌             | 1.1MB 18.6MB/s eta 0:00:01\r\u001b[K     |██████████████████▋             | 1.1MB 18.6MB/s eta 0:00:01\r\u001b[K     |██████████████████▉             | 1.1MB 18.6MB/s eta 0:00:01\r\u001b[K     |███████████████████             | 1.1MB 18.6MB/s eta 0:00:01\r\u001b[K     |███████████████████▏            | 1.1MB 18.6MB/s eta 0:00:01\r\u001b[K     |███████████████████▎            | 1.1MB 18.6MB/s eta 0:00:01\r\u001b[K     |███████████████████▌            | 1.1MB 18.6MB/s eta 0:00:01\r\u001b[K     |███████████████████▋            | 1.2MB 18.6MB/s eta 0:00:01\r\u001b[K     |███████████████████▉            | 1.2MB 18.6MB/s eta 0:00:01\r\u001b[K     |████████████████████            | 1.2MB 18.6MB/s eta 0:00:01\r\u001b[K     |████████████████████▏           | 1.2MB 18.6MB/s eta 0:00:01\r\u001b[K     |████████████████████▍           | 1.2MB 18.6MB/s eta 0:00:01\r\u001b[K     |████████████████████▌           | 1.2MB 18.6MB/s eta 0:00:01\r\u001b[K     |████████████████████▊           | 1.2MB 18.6MB/s eta 0:00:01\r\u001b[K     |████████████████████▉           | 1.2MB 18.6MB/s eta 0:00:01\r\u001b[K     |█████████████████████           | 1.2MB 18.6MB/s eta 0:00:01\r\u001b[K     |█████████████████████▎          | 1.2MB 18.6MB/s eta 0:00:01\r\u001b[K     |█████████████████████▍          | 1.3MB 18.6MB/s eta 0:00:01\r\u001b[K     |█████████████████████▋          | 1.3MB 18.6MB/s eta 0:00:01\r\u001b[K     |█████████████████████▊          | 1.3MB 18.6MB/s eta 0:00:01\r\u001b[K     |██████████████████████          | 1.3MB 18.6MB/s eta 0:00:01\r\u001b[K     |██████████████████████          | 1.3MB 18.6MB/s eta 0:00:01\r\u001b[K     |██████████████████████▎         | 1.3MB 18.6MB/s eta 0:00:01\r\u001b[K     |██████████████████████▌         | 1.3MB 18.6MB/s eta 0:00:01\r\u001b[K     |██████████████████████▋         | 1.3MB 18.6MB/s eta 0:00:01\r\u001b[K     |██████████████████████▉         | 1.3MB 18.6MB/s eta 0:00:01\r\u001b[K     |███████████████████████         | 1.4MB 18.6MB/s eta 0:00:01\r\u001b[K     |███████████████████████▏        | 1.4MB 18.6MB/s eta 0:00:01\r\u001b[K     |███████████████████████▎        | 1.4MB 18.6MB/s eta 0:00:01\r\u001b[K     |███████████████████████▌        | 1.4MB 18.6MB/s eta 0:00:01\r\u001b[K     |███████████████████████▊        | 1.4MB 18.6MB/s eta 0:00:01\r\u001b[K     |███████████████████████▉        | 1.4MB 18.6MB/s eta 0:00:01\r\u001b[K     |████████████████████████        | 1.4MB 18.6MB/s eta 0:00:01\r\u001b[K     |████████████████████████▏       | 1.4MB 18.6MB/s eta 0:00:01\r\u001b[K     |████████████████████████▍       | 1.4MB 18.6MB/s eta 0:00:01\r\u001b[K     |████████████████████████▌       | 1.4MB 18.6MB/s eta 0:00:01\r\u001b[K     |████████████████████████▊       | 1.5MB 18.6MB/s eta 0:00:01\r\u001b[K     |████████████████████████▉       | 1.5MB 18.6MB/s eta 0:00:01\r\u001b[K     |█████████████████████████       | 1.5MB 18.6MB/s eta 0:00:01\r\u001b[K     |█████████████████████████▎      | 1.5MB 18.6MB/s eta 0:00:01\r\u001b[K     |█████████████████████████▍      | 1.5MB 18.6MB/s eta 0:00:01\r\u001b[K     |█████████████████████████▋      | 1.5MB 18.6MB/s eta 0:00:01\r\u001b[K     |█████████████████████████▊      | 1.5MB 18.6MB/s eta 0:00:01\r\u001b[K     |██████████████████████████      | 1.5MB 18.6MB/s eta 0:00:01\r\u001b[K     |██████████████████████████      | 1.5MB 18.6MB/s eta 0:00:01\r\u001b[K     |██████████████████████████▎     | 1.5MB 18.6MB/s eta 0:00:01\r\u001b[K     |██████████████████████████▌     | 1.6MB 18.6MB/s eta 0:00:01\r\u001b[K     |██████████████████████████▋     | 1.6MB 18.6MB/s eta 0:00:01\r\u001b[K     |██████████████████████████▉     | 1.6MB 18.6MB/s eta 0:00:01\r\u001b[K     |███████████████████████████     | 1.6MB 18.6MB/s eta 0:00:01\r\u001b[K     |███████████████████████████▏    | 1.6MB 18.6MB/s eta 0:00:01\r\u001b[K     |███████████████████████████▎    | 1.6MB 18.6MB/s eta 0:00:01\r\u001b[K     |███████████████████████████▌    | 1.6MB 18.6MB/s eta 0:00:01\r\u001b[K     |███████████████████████████▊    | 1.6MB 18.6MB/s eta 0:00:01\r\u001b[K     |███████████████████████████▉    | 1.6MB 18.6MB/s eta 0:00:01\r\u001b[K     |████████████████████████████    | 1.6MB 18.6MB/s eta 0:00:01\r\u001b[K     |████████████████████████████▏   | 1.7MB 18.6MB/s eta 0:00:01\r\u001b[K     |████████████████████████████▍   | 1.7MB 18.6MB/s eta 0:00:01\r\u001b[K     |████████████████████████████▌   | 1.7MB 18.6MB/s eta 0:00:01\r\u001b[K     |████████████████████████████▊   | 1.7MB 18.6MB/s eta 0:00:01\r\u001b[K     |█████████████████████████████   | 1.7MB 18.6MB/s eta 0:00:01\r\u001b[K     |█████████████████████████████   | 1.7MB 18.6MB/s eta 0:00:01\r\u001b[K     |█████████████████████████████▎  | 1.7MB 18.6MB/s eta 0:00:01\r\u001b[K     |█████████████████████████████▍  | 1.7MB 18.6MB/s eta 0:00:01\r\u001b[K     |█████████████████████████████▋  | 1.7MB 18.6MB/s eta 0:00:01\r\u001b[K     |█████████████████████████████▊  | 1.8MB 18.6MB/s eta 0:00:01\r\u001b[K     |██████████████████████████████  | 1.8MB 18.6MB/s eta 0:00:01\r\u001b[K     |██████████████████████████████  | 1.8MB 18.6MB/s eta 0:00:01\r\u001b[K     |██████████████████████████████▎ | 1.8MB 18.6MB/s eta 0:00:01\r\u001b[K     |██████████████████████████████▌ | 1.8MB 18.6MB/s eta 0:00:01\r\u001b[K     |██████████████████████████████▋ | 1.8MB 18.6MB/s eta 0:00:01\r\u001b[K     |██████████████████████████████▉ | 1.8MB 18.6MB/s eta 0:00:01\r\u001b[K     |███████████████████████████████ | 1.8MB 18.6MB/s eta 0:00:01\r\u001b[K     |███████████████████████████████▏| 1.8MB 18.6MB/s eta 0:00:01\r\u001b[K     |███████████████████████████████▎| 1.8MB 18.6MB/s eta 0:00:01\r\u001b[K     |███████████████████████████████▌| 1.9MB 18.6MB/s eta 0:00:01\r\u001b[K     |███████████████████████████████▊| 1.9MB 18.6MB/s eta 0:00:01\r\u001b[K     |███████████████████████████████▉| 1.9MB 18.6MB/s eta 0:00:01\r\u001b[K     |████████████████████████████████| 1.9MB 18.6MB/s \n",
            "\u001b[?25hRequirement already satisfied: pillow in /usr/local/lib/python3.6/dist-packages (from facenet-pytorch) (7.0.0)\n",
            "Requirement already satisfied: numpy in /usr/local/lib/python3.6/dist-packages (from facenet-pytorch) (1.19.5)\n",
            "Requirement already satisfied: torchvision in /usr/local/lib/python3.6/dist-packages (from facenet-pytorch) (0.8.1+cu101)\n",
            "Requirement already satisfied: requests in /usr/local/lib/python3.6/dist-packages (from facenet-pytorch) (2.23.0)\n",
            "Requirement already satisfied: torch==1.7.0 in /usr/local/lib/python3.6/dist-packages (from torchvision->facenet-pytorch) (1.7.0+cu101)\n",
            "Requirement already satisfied: idna<3,>=2.5 in /usr/local/lib/python3.6/dist-packages (from requests->facenet-pytorch) (2.10)\n",
            "Requirement already satisfied: urllib3!=1.25.0,!=1.25.1,<1.26,>=1.21.1 in /usr/local/lib/python3.6/dist-packages (from requests->facenet-pytorch) (1.24.3)\n",
            "Requirement already satisfied: chardet<4,>=3.0.2 in /usr/local/lib/python3.6/dist-packages (from requests->facenet-pytorch) (3.0.4)\n",
            "Requirement already satisfied: certifi>=2017.4.17 in /usr/local/lib/python3.6/dist-packages (from requests->facenet-pytorch) (2020.12.5)\n",
            "Requirement already satisfied: future in /usr/local/lib/python3.6/dist-packages (from torch==1.7.0->torchvision->facenet-pytorch) (0.16.0)\n",
            "Requirement already satisfied: typing-extensions in /usr/local/lib/python3.6/dist-packages (from torch==1.7.0->torchvision->facenet-pytorch) (3.7.4.3)\n",
            "Requirement already satisfied: dataclasses in /usr/local/lib/python3.6/dist-packages (from torch==1.7.0->torchvision->facenet-pytorch) (0.8)\n",
            "Installing collected packages: facenet-pytorch\n",
            "Successfully installed facenet-pytorch-2.5.1\n"
          ],
          "name": "stdout"
        }
      ]
    },
    {
      "cell_type": "code",
      "metadata": {
        "id": "LjlYZv2wXdjn"
      },
      "source": [
        "from facenet_pytorch import MTCNN\r\n",
        "import cv2\r\n",
        "import matplotlib.pyplot as plt\r\n",
        "import numpy as np\r\n",
        "from PIL import Image\r\n",
        "from tqdm.notebook import tqdm\r\n",
        "import os\r\n",
        "from os import mkdir"
      ],
      "execution_count": null,
      "outputs": []
    },
    {
      "cell_type": "code",
      "metadata": {
        "id": "H7pDDH5gXrdY"
      },
      "source": [
        "!unzip \"/content/drive/MyDrive/face_dataset_zip/*.zip\" -d /content/sample_data/dataset\r\n"
      ],
      "execution_count": null,
      "outputs": []
    },
    {
      "cell_type": "code",
      "metadata": {
        "colab": {
          "base_uri": "https://localhost:8080/",
          "height": 233,
          "referenced_widgets": [
            "f3207a1136774e82845c97fff8dab06d",
            "3e305d679ec54536a827aa7f6aae4eaf",
            "2bcd1e302a1648c5a5c47876ec00b1c6",
            "dc695b5511804224bddb8e215403257a",
            "8cf1bf6162d542ac99295ff31ad4ddcb",
            "37cfeb4a4dc64267ad74454c2a74b4cb",
            "c22c3154c15a4d3fb4bc144c79e3f09d",
            "3444678e4066462f91dc0080abc8fcb4"
          ]
        },
        "id": "DyKLp2RHhppM",
        "outputId": "594f4278-5c65-40b5-b09a-ed545cbea690"
      },
      "source": [
        "os.makedirs(\"/content/drive/MyDrive/Datasets/fake_images\", exist_ok=True)\r\n",
        "os.makedirs(\"/content/drive/MyDrive/Datasets/genuine_images\" , exist_ok=True)\r\n",
        "mtcnn = MTCNN(margin=40 , keep_all=True ,post_process=False,device = 'cuda:0')\r\n",
        "images_created=0\r\n",
        "for video_name in tqdm(os.listdir(\"/content/sample_data/dataset\")):\r\n",
        "  video_path = os.path.join(\"/content/sample_data/dataset\" ,video_name)\r\n",
        "  v_cap=cv2.VideoCapture(video_path)\r\n",
        "  v_len=int(v_cap.get(cv2.CAP_PROP_FRAME_COUNT))\r\n",
        "  frames=[]\r\n",
        "  for i in range(v_len):\r\n",
        "    success = v_cap.grab()\r\n",
        "    if i%50==0:\r\n",
        "      success , frame =v_cap.retrieve()\r\n",
        "    else:\r\n",
        "      continue\r\n",
        "      \r\n",
        "    if not success:\r\n",
        "      continue\r\n",
        "    frame=cv2.cvtColor(frame, cv2.COLOR_BGR2RGB)\r\n",
        "    frames.append(Image.fromarray(frame))\r\n",
        "  images_created+=len(frames)\r\n",
        "  if video_name[0]=='G':\r\n",
        "    save_paths = [f'/content/drive/MyDrive/Datasets/genuine_images/image_{i}.jpg' for i in range(images_created,len(frames)+images_created)]\r\n",
        "  else:\r\n",
        "    save_paths = [f'/content/drive/MyDrive/Datasets/fake_images/image_{i}.jpg' for i in range(images_created,len(frames)+images_created)]\r\n",
        "  mtcnn(frames, save_path=save_paths)\r\n",
        "  save_paths=[]"
      ],
      "execution_count": null,
      "outputs": [
        {
          "output_type": "display_data",
          "data": {
            "application/vnd.jupyter.widget-view+json": {
              "model_id": "f3207a1136774e82845c97fff8dab06d",
              "version_minor": 0,
              "version_major": 2
            },
            "text/plain": [
              "HBox(children=(FloatProgress(value=0.0, max=3497.0), HTML(value='')))"
            ]
          },
          "metadata": {
            "tags": []
          }
        },
        {
          "output_type": "stream",
          "text": [
            "/usr/local/lib/python3.6/dist-packages/facenet_pytorch/models/utils/detect_face.py:183: VisibleDeprecationWarning: Creating an ndarray from ragged nested sequences (which is a list-or-tuple of lists-or-tuples-or ndarrays with different lengths or shapes) is deprecated. If you meant to do this, you must specify 'dtype=object' when creating the ndarray\n",
            "  batch_boxes, batch_points = np.array(batch_boxes), np.array(batch_points)\n",
            "/usr/local/lib/python3.6/dist-packages/facenet_pytorch/models/mtcnn.py:339: VisibleDeprecationWarning: Creating an ndarray from ragged nested sequences (which is a list-or-tuple of lists-or-tuples-or ndarrays with different lengths or shapes) is deprecated. If you meant to do this, you must specify 'dtype=object' when creating the ndarray\n",
            "  boxes = np.array(boxes)\n",
            "/usr/local/lib/python3.6/dist-packages/facenet_pytorch/models/mtcnn.py:340: VisibleDeprecationWarning: Creating an ndarray from ragged nested sequences (which is a list-or-tuple of lists-or-tuples-or ndarrays with different lengths or shapes) is deprecated. If you meant to do this, you must specify 'dtype=object' when creating the ndarray\n",
            "  probs = np.array(probs)\n",
            "/usr/local/lib/python3.6/dist-packages/facenet_pytorch/models/mtcnn.py:341: VisibleDeprecationWarning: Creating an ndarray from ragged nested sequences (which is a list-or-tuple of lists-or-tuples-or ndarrays with different lengths or shapes) is deprecated. If you meant to do this, you must specify 'dtype=object' when creating the ndarray\n",
            "  points = np.array(points)\n"
          ],
          "name": "stderr"
        },
        {
          "output_type": "stream",
          "text": [
            "\n"
          ],
          "name": "stdout"
        }
      ]
    },
    {
      "cell_type": "code",
      "metadata": {
        "colab": {
          "base_uri": "https://localhost:8080/"
        },
        "id": "1hy9k4vMr_en",
        "outputId": "f5fcac62-2128-4952-b599-2f5ce497c688"
      },
      "source": [
        "print(len(os.listdir(\"/content/drive/MyDrive/Datasets/fake_images\")))\r\n",
        "print(len(os.listdir(\"/content/drive/MyDrive/Datasets/genuine_images\")))"
      ],
      "execution_count": null,
      "outputs": [
        {
          "output_type": "stream",
          "text": [
            "14469\n",
            "6168\n"
          ],
          "name": "stdout"
        }
      ]
    }
  ]
}